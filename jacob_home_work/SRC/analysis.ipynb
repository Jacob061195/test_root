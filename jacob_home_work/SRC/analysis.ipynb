{
  "cells": [
    {
      "cell_type": "markdown",
      "metadata": {},
      "source": [
        "# Analyse des Performances SMP\n",
        "## Visualisation des temps d'ex\u00e9cution\n",
        "*G\u00e9n\u00e9r\u00e9 le 2025-03-31 17:13:05*"
      ]
    },
    {
      "cell_type": "code",
      "execution_count": null,
      "metadata": {},
      "outputs": [],
      "source": [
        "# Importations optimis\u00e9es\n",
        "import pandas as pd\n",
        "import numpy as np\n",
        "import matplotlib.pyplot as plt\n",
        "import seaborn as sns\n",
        "from IPython.display import display\n",
        "\n",
        "# Configuration des graphiques\n",
        "plt.style.use('seaborn-v0_8-darkgrid')\n",
        "plt.rcParams['figure.figsize'] = (14, 6)\n",
        "sns.set_palette('husl', 3)\n",
        "\n",
        "# Chargement des donn\u00e9es\n",
        "try:\n",
        "    df = pd.read_csv('results.csv')\n",
        "    print(f\"{len(df)} exp\u00e9riences charg\u00e9es\")\n",
        "    display(df.head(3))\n",
        "except Exception as e:\n",
        "    print(f\"Erreur de chargement: {str(e)}\")"
      ]
    },
    {
      "cell_type": "code",
      "execution_count": null,
      "metadata": {},
      "outputs": [],
      "source": [
        "# Visualisation principale\n",
        "fig, (ax1, ax2) = plt.subplots(1, 2)\n",
        "\n",
        "# Graphique lin\u00e9aire\n",
        "sns.lineplot(data=df, x='input_size', y='time_ms', ax=ax1, \n",
        "             estimator='median', errorbar=('pi', 50))\n",
        "ax1.set_title('Temps d\\'ex\u00e9cution en fonction de N')\n",
        "ax1.set_xlabel('Taille de l\\'entr\u00e9e (N)')\n",
        "ax1.set_ylabel('Temps (ms)')\n",
        "ax1.grid(True, linestyle='--', alpha=0.7)\n",
        "\n",
        "# Graphique log-log\n",
        "sns.regplot(data=df, x='input_size', y='time_ms', ax=ax2,\n",
        "            logx=True, logy=True, \n",
        "            scatter_kws={'s': 60, 'alpha': 0.6},\n",
        "            line_kws={'color': 'red', 'linestyle': '--'})\n",
        "ax2.set_title('Analyse de complexit\u00e9 (log-log)')\n",
        "ax2.set_xlabel('log(N)')\n",
        "ax2.set_ylabel('log(Temps)')\n",
        "\n",
        "plt.tight_layout()\n",
        "plt.savefig('smp_performance.png', dpi=300, bbox_inches='tight')\n",
        "plt.show()"
      ]
    },
    {
      "cell_type": "code",
      "execution_count": null,
      "metadata": {},
      "outputs": [],
      "source": [
        "# Analyse de complexit\u00e9\n",
        "try:\n",
        "    log_n = np.log(df['input_size'])\n",
        "    log_time = np.log(df['time_ms'].astype(float))\n",
        "    coeffs = np.polyfit(log_n, log_time, 1)\n",
        "    \n",
        "    print(f\"Analyse de complexit\u00e9:\\n\"\n",
        "          f\"- Exposant estim\u00e9: {coeffs[0]:.2f} \u2192 O(n^{coeffs[0]:.2f})\\n\"\n",
        "          f\"- Constante: {np.exp(coeffs[1]):.2e}\")\n",
        "    \n",
        "    # Pr\u00e9diction th\u00e9orique\n",
        "    theoretical = df.copy()\n",
        "    theoretical['predicted'] = np.exp(coeffs[1]) * (df['input_size']**coeffs[0])\n",
        "    \n",
        "    # Visualisation comparaison\n",
        "    plt.figure(figsize=(12, 6))\n",
        "    sns.lineplot(data=df, x='input_size', y='time_ms', \n",
        "                 label='Observ\u00e9', errorbar=None)\n",
        "    sns.lineplot(data=theoretical, x='input_size', y='predicted', \n",
        "                 label='Pr\u00e9diction', linestyle='--')\n",
        "    plt.title('Comparaison avec mod\u00e8le th\u00e9orique')\n",
        "    plt.xlabel('Taille de l\\'entr\u00e9e (N)')\n",
        "    plt.ylabel('Temps (ms)')\n",
        "    plt.legend()\n",
        "    plt.grid(True)\n",
        "    plt.savefig('smp_complexity.png', dpi=300)\n",
        "    plt.show()\n",
        "    \n",
        "except Exception as e:\n",
        "    print(f\"Erreur dans l\\'analyse: {str(e)}\")"
      ]
    },
    {
      "cell_type": "markdown",
      "metadata": {},
      "source": [
        "## R\u00e9sultats sauvegard\u00e9s\n",
        "- `smp_performance.png`: Graphique des performances\n",
        "- `smp_complexity.png`: Analyse de complexit\u00e9\n",
        "- `results.csv`: Donn\u00e9es brutes"
      ]
    }
  ],
  "metadata": {
    "kernelspec": {
      "display_name": "Python 3",
      "language": "python",
      "name": "python3"
    },
    "language_info": {
      "codemirror_mode": {
        "name": "ipython",
        "version": 3
      },
      "file_extension": ".py",
      "mimetype": "text/x-python",
      "name": "python",
      "nbconvert_exporter": "python",
      "pygments_lexer": "ipython3",
      "version": "3.9.0"
    }
  },
  "nbformat": 4,
  "nbformat_minor": 4
}