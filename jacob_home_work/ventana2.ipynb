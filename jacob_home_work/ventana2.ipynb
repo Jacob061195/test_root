{
 "cells": [
  {
   "cell_type": "code",
   "execution_count": 1,
   "id": "a2917523",
   "metadata": {},
   "outputs": [],
   "source": [
    "import matplotlib.pyplot as plt\n",
    "from scipy.signal import spectrogram\n",
    "from scipy.io import wavfile\n",
    "import numpy as np"
   ]
  },
  {
   "cell_type": "code",
   "execution_count": 2,
   "id": "11f606d9",
   "metadata": {},
   "outputs": [
    {
     "name": "stdout",
     "output_type": "stream",
     "text": [
      "Erreur lors du traitement du fichier file1.wav : Unknown wave file format: ALAW. Supported formats: PCM, IEEE_FLOAT\n"
     ]
    }
   ],
   "source": [
    "def plot_spectrogram(wav_file):\n",
    "    \"\"\"\n",
    "    Génère et affiche un spectrogramme à partir d'un fichier WAV.\n",
    "    \n",
    "    Args:\n",
    "        wav_file (str): Chemin vers le fichier WAV à analyser.\n",
    "    \"\"\"\n",
    "    try:\n",
    "        # Charger le fichier WAV\n",
    "        fs, data = wavfile.read(wav_file)\n",
    "        \n",
    "        # Si stéréo, prendre uniquement un canal (canal gauche)\n",
    "        if data.ndim > 1:\n",
    "            data = data[:, 0]\n",
    "            \n",
    "        # Générer le spectrogramme\n",
    "        frequencies, times, Sxx = spectrogram(data, fs)\n",
    "        \n",
    "        # Affichage\n",
    "        plt.figure(figsize=(10, 6))\n",
    "        plt.pcolormesh(times, frequencies, 10 * np.log10(Sxx + 1e-10),  # éviter log(0)\n",
    "                       shading='gouraud', cmap='viridis')\n",
    "        plt.ylabel('Fréquence (Hz)')\n",
    "        plt.xlabel('Temps (s)')\n",
    "        plt.title(f'Spectrogramme - {wav_file}')\n",
    "        plt.colorbar(label='Intensité (dB)')\n",
    "        plt.tight_layout()\n",
    "        plt.show()\n",
    "        \n",
    "    except Exception as e:\n",
    "        print(f\"Erreur lors du traitement du fichier {wav_file} : {str(e)}\")\n",
    "\n",
    "# Exemple d'utilisation\n",
    "if __name__ == \"__main__\":\n",
    "    plot_spectrogram('file1.wav')"
   ]
  }
 ],
 "metadata": {
  "kernelspec": {
   "display_name": ".venv",
   "language": "python",
   "name": "python3"
  },
  "language_info": {
   "codemirror_mode": {
    "name": "ipython",
    "version": 3
   },
   "file_extension": ".py",
   "mimetype": "text/x-python",
   "name": "python",
   "nbconvert_exporter": "python",
   "pygments_lexer": "ipython3",
   "version": "3.12.3"
  }
 },
 "nbformat": 4,
 "nbformat_minor": 5
}
